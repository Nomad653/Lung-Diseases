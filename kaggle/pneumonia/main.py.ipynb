{
 "cells": [
  {
   "cell_type": "code",
   "execution_count": null,
   "metadata": {
    "pycharm": {
     "is_executing": true
    }
   },
   "outputs": [
    {
     "name": "stderr",
     "output_type": "stream",
     "text": [
      "2023-04-12 15:33:26.487846: I tensorflow/core/util/port.cc:110] oneDNN custom operations are on. You may see slightly different numerical results due to floating-point round-off errors from different computation orders. To turn them off, set the environment variable `TF_ENABLE_ONEDNN_OPTS=0`.\n",
      "2023-04-12 15:33:26.489532: I tensorflow/tsl/cuda/cudart_stub.cc:28] Could not find cuda drivers on your machine, GPU will not be used.\n",
      "2023-04-12 15:33:26.522096: I tensorflow/tsl/cuda/cudart_stub.cc:28] Could not find cuda drivers on your machine, GPU will not be used.\n",
      "2023-04-12 15:33:26.523042: I tensorflow/core/platform/cpu_feature_guard.cc:182] This TensorFlow binary is optimized to use available CPU instructions in performance-critical operations.\n",
      "To enable the following instructions: AVX2 AVX512F AVX512_VNNI FMA, in other operations, rebuild TensorFlow with the appropriate compiler flags.\n",
      "2023-04-12 15:33:27.288208: W tensorflow/compiler/tf2tensorrt/utils/py_utils.cc:38] TF-TRT Warning: Could not find TensorRT\n"
     ]
    },
    {
     "name": "stdout",
     "output_type": "stream",
     "text": [
      "Found 5216 files belonging to 2 classes.\n"
     ]
    },
    {
     "name": "stderr",
     "output_type": "stream",
     "text": [
      "2023-04-12 15:33:29.198362: I tensorflow/compiler/xla/stream_executor/cuda/cuda_gpu_executor.cc:996] successful NUMA node read from SysFS had negative value (-1), but there must be at least one NUMA node, so returning NUMA node zero. See more at https://github.com/torvalds/linux/blob/v6.0/Documentation/ABI/testing/sysfs-bus-pci#L344-L355\n",
      "2023-04-12 15:33:29.198704: W tensorflow/core/common_runtime/gpu/gpu_device.cc:1956] Cannot dlopen some GPU libraries. Please make sure the missing libraries mentioned above are installed properly if you would like to use GPU. Follow the guide at https://www.tensorflow.org/install/gpu for how to download and setup the required libraries for your platform.\n",
      "Skipping registering GPU devices...\n"
     ]
    },
    {
     "name": "stdout",
     "output_type": "stream",
     "text": [
      "Found 16 files belonging to 2 classes.\n",
      "Found 624 files belonging to 2 classes.\n",
      "in the training set 2 class names to classify the images for: ['NORMAL', 'PNEUMONIA']\n"
     ]
    },
    {
     "name": "stderr",
     "output_type": "stream",
     "text": [
      "2023-04-12 15:33:29.618635: I tensorflow/core/common_runtime/executor.cc:1197] [/device:CPU:0] (DEBUG INFO) Executor start aborting (this does not indicate an error and you can ignore this message): INVALID_ARGUMENT: You must feed a value for placeholder tensor 'Placeholder/_0' with dtype string and shape [5216]\n",
      "\t [[{{node Placeholder/_0}}]]\n",
      "2023-04-12 15:33:29.618833: I tensorflow/core/common_runtime/executor.cc:1197] [/device:CPU:0] (DEBUG INFO) Executor start aborting (this does not indicate an error and you can ignore this message): INVALID_ARGUMENT: You must feed a value for placeholder tensor 'Placeholder/_0' with dtype string and shape [5216]\n",
      "\t [[{{node Placeholder/_0}}]]\n"
     ]
    },
    {
     "name": "stdout",
     "output_type": "stream",
     "text": [
      "image batch shape: (32, 224, 224, 3)\n",
      "image label shape: (32,)\n",
      "Epoch 1/30\n"
     ]
    },
    {
     "name": "stderr",
     "output_type": "stream",
     "text": [
      "2023-04-12 15:33:32.130827: I tensorflow/core/common_runtime/executor.cc:1197] [/device:CPU:0] (DEBUG INFO) Executor start aborting (this does not indicate an error and you can ignore this message): INVALID_ARGUMENT: You must feed a value for placeholder tensor 'Placeholder/_0' with dtype string and shape [5216]\n",
      "\t [[{{node Placeholder/_0}}]]\n",
      "2023-04-12 15:33:32.131061: I tensorflow/core/common_runtime/executor.cc:1197] [/device:CPU:0] (DEBUG INFO) Executor start aborting (this does not indicate an error and you can ignore this message): INVALID_ARGUMENT: You must feed a value for placeholder tensor 'Placeholder/_0' with dtype string and shape [5216]\n",
      "\t [[{{node Placeholder/_0}}]]\n"
     ]
    },
    {
     "name": "stdout",
     "output_type": "stream",
     "text": [
      "163/163 [==============================] - ETA: 0s - loss: 0.6471 - accuracy: 0.4852 - precision: 0.9501 - recall: 0.3241"
     ]
    },
    {
     "name": "stderr",
     "output_type": "stream",
     "text": [
      "2023-04-12 15:34:47.222303: I tensorflow/core/common_runtime/executor.cc:1197] [/device:CPU:0] (DEBUG INFO) Executor start aborting (this does not indicate an error and you can ignore this message): INVALID_ARGUMENT: You must feed a value for placeholder tensor 'Placeholder/_4' with dtype int32 and shape [16]\n",
      "\t [[{{node Placeholder/_4}}]]\n",
      "2023-04-12 15:34:47.222777: I tensorflow/core/common_runtime/executor.cc:1197] [/device:CPU:0] (DEBUG INFO) Executor start aborting (this does not indicate an error and you can ignore this message): INVALID_ARGUMENT: You must feed a value for placeholder tensor 'Placeholder/_0' with dtype string and shape [16]\n",
      "\t [[{{node Placeholder/_0}}]]\n"
     ]
    },
    {
     "name": "stdout",
     "output_type": "stream",
     "text": [
      "163/163 [==============================] - 76s 444ms/step - loss: 0.6471 - accuracy: 0.4852 - precision: 0.9501 - recall: 0.3241 - val_loss: 0.5320 - val_accuracy: 0.6875 - val_precision: 1.0000 - val_recall: 0.3750\n",
      "Epoch 2/30\n",
      "163/163 [==============================] - 65s 399ms/step - loss: 0.4731 - accuracy: 0.6975 - precision: 0.9709 - recall: 0.6111 - val_loss: 0.4335 - val_accuracy: 0.9375 - val_precision: 1.0000 - val_recall: 0.8750\n",
      "Epoch 3/30\n",
      "163/163 [==============================] - 65s 401ms/step - loss: 0.3728 - accuracy: 0.7958 - precision: 0.9696 - recall: 0.7486 - val_loss: 0.4166 - val_accuracy: 0.8750 - val_precision: 0.8000 - val_recall: 1.0000\n",
      "Epoch 4/30\n",
      "163/163 [==============================] - 63s 389ms/step - loss: 0.3267 - accuracy: 0.8459 - precision: 0.9629 - recall: 0.8243 - val_loss: 0.3700 - val_accuracy: 0.8750 - val_precision: 0.8000 - val_recall: 1.0000\n",
      "Epoch 5/30\n",
      "163/163 [==============================] - 62s 383ms/step - loss: 0.2939 - accuracy: 0.8679 - precision: 0.9580 - recall: 0.8599 - val_loss: 0.3729 - val_accuracy: 0.8125 - val_precision: 0.7273 - val_recall: 1.0000\n",
      "Epoch 6/30\n",
      "163/163 [==============================] - 64s 391ms/step - loss: 0.2820 - accuracy: 0.8767 - precision: 0.9555 - recall: 0.8748 - val_loss: 0.3361 - val_accuracy: 0.8125 - val_precision: 0.8571 - val_recall: 0.7500\n",
      "Epoch 7/30\n",
      "163/163 [==============================] - 63s 389ms/step - loss: 0.2502 - accuracy: 0.8959 - precision: 0.9602 - recall: 0.8970 - val_loss: 0.3738 - val_accuracy: 0.8125 - val_precision: 0.7273 - val_recall: 1.0000\n",
      "Epoch 8/30\n",
      "163/163 [==============================] - 67s 410ms/step - loss: 0.2422 - accuracy: 0.8944 - precision: 0.9566 - recall: 0.8986 - val_loss: 0.3025 - val_accuracy: 0.8750 - val_precision: 0.8750 - val_recall: 0.8750\n",
      "Epoch 9/30\n",
      "163/163 [==============================] - 69s 421ms/step - loss: 0.2357 - accuracy: 0.9016 - precision: 0.9565 - recall: 0.9089 - val_loss: 0.3197 - val_accuracy: 0.8750 - val_precision: 1.0000 - val_recall: 0.7500\n",
      "Epoch 10/30\n",
      "163/163 [==============================] - 64s 393ms/step - loss: 0.2340 - accuracy: 0.8969 - precision: 0.9540 - recall: 0.9048 - val_loss: 0.2824 - val_accuracy: 0.8750 - val_precision: 1.0000 - val_recall: 0.7500\n",
      "Epoch 11/30\n",
      "163/163 [==============================] - 69s 421ms/step - loss: 0.2231 - accuracy: 0.9070 - precision: 0.9596 - recall: 0.9133 - val_loss: 0.3342 - val_accuracy: 0.8125 - val_precision: 0.7273 - val_recall: 1.0000\n",
      "Epoch 12/30\n",
      "163/163 [==============================] - 67s 409ms/step - loss: 0.2184 - accuracy: 0.9082 - precision: 0.9562 - recall: 0.9185 - val_loss: 0.3463 - val_accuracy: 0.8125 - val_precision: 0.7273 - val_recall: 1.0000\n",
      "Epoch 13/30\n",
      "109/163 [===================>..........] - ETA: 22s - loss: 0.2080 - accuracy: 0.9143 - precision: 0.9650 - recall: 0.9175"
     ]
    }
   ],
   "source": [
    "import matplotlib.pyplot as plt\n",
    "\n",
    "import tensorflow as tf\n",
    "from tensorflow.keras import Input, Model, Sequential\n",
    "from tensorflow.keras.layers import BatchNormalization, Dense, Dropout, GlobalAveragePooling2D, RandomFlip, RandomRotation, RandomZoom, RandomContrast,RandomTranslation, RandomHeight, RandomWidth , RandomCrop\n",
    "\n",
    "parent_dir = './data/chest_xray'\n",
    "train_dir = parent_dir + '/train'\n",
    "val_dir = parent_dir + '/val'\n",
    "test_dir = parent_dir + '/test'\n",
    "\n",
    "image_height = image_width = 224\n",
    "image_shape = (image_height, image_width) + (3,)\n",
    "batch_size = 32\n",
    "epochs = 30\n",
    "learning_rate = .0001\n",
    "\n",
    "\n",
    "def load_images():\n",
    "\n",
    "    def load_images_for(directory):\n",
    "        return tf.keras.utils.image_dataset_from_directory(\n",
    "            directory,\n",
    "            shuffle=True,\n",
    "            batch_size=batch_size,\n",
    "            image_size=(image_height, image_width))\n",
    "\n",
    "    return [load_images_for(dir) for dir in [train_dir, val_dir, test_dir]]\n",
    "\n",
    "\n",
    "def print_train_dataset_details(dataset):\n",
    "    num_classes = len(dataset.class_names)\n",
    "    print(f'in the training set {num_classes} class names to classify the images for: {dataset.class_names}')\n",
    "    for image_batch, labels_batch in dataset:\n",
    "        print(f'image batch shape: {image_batch.shape}')\n",
    "        print(f'image label shape: {labels_batch.shape}')\n",
    "        break\n",
    "\n",
    "\n",
    "def use_buffered_prefetching(train, val, test):\n",
    "\n",
    "    def use_buffered_prefetching_for(dataset):\n",
    "        return dataset.cache().prefetch(buffer_size=tf.data.AUTOTUNE)\n",
    "\n",
    "    return [use_buffered_prefetching_for(dataset) for dataset in [train, val, test]]\n",
    "\n",
    "\n",
    "def build_transfer_learning_model():\n",
    "    data_augmentation = Sequential([\n",
    "        RandomFlip('horizontal'),\n",
    "        RandomZoom(.2),\n",
    "        RandomContrast(.2),\n",
    "        RandomTranslation(.2, .2),\n",
    "        RandomHeight(.2),\n",
    "        RandomWidth(.2),\n",
    "        RandomCrop(224, 224),\n",
    "        RandomRotation(0.2)\n",
    "    ])\n",
    "\n",
    "    preprocess_input = tf.keras.applications.mobilenet_v2.preprocess_input\n",
    "    base_model = tf.keras.applications.MobileNetV2(input_shape=image_shape, include_top=False, weights='imagenet')\n",
    "    base_model.trainable = False\n",
    "\n",
    "    inputs = Input(shape=image_shape)\n",
    "    x = data_augmentation(inputs)\n",
    "    x = preprocess_input(x)\n",
    "    x = base_model(x, training=False)\n",
    "    x = GlobalAveragePooling2D()(x)\n",
    "    x = Dropout(.2)(x)\n",
    "    x = Dense(512, activation='relu')(x)\n",
    "    x = BatchNormalization()(x)\n",
    "    x = Dense(128, activation='relu')(x)\n",
    "    x = BatchNormalization()(x)\n",
    "    x = Dense(32, activation='relu')(x)\n",
    "    x = BatchNormalization()(x)\n",
    "    x = Dense(8, activation='relu')(x)\n",
    "    outputs = Dense(1)(x)\n",
    "    model = Model(inputs, outputs, name='pneumonia')\n",
    "    model.compile(optimizer=tf.keras.optimizers.Adam(learning_rate=learning_rate),\n",
    "                  loss=tf.keras.losses.BinaryCrossentropy(from_logits=True),\n",
    "                  metrics=[tf.keras.metrics.BinaryAccuracy(name='accuracy'),\n",
    "                           tf.keras.metrics.Precision(name='precision'),\n",
    "                           tf.keras.metrics.Recall(name='recall')])\n",
    "\n",
    "    return model\n",
    "\n",
    "\n",
    "\n",
    "def train_model(m, train, val, test):\n",
    "    hist = m.fit(train, epochs=epochs, validation_data=val)\n",
    "    loss, accuracy, precision, recall = m.evaluate(test)\n",
    "    print(f'the accuracy/precision/recall scores on the test dataset: {accuracy:.3f}/{precision:.3f}/{recall:.3f} with a loss of: {loss:.3f}')\n",
    "\n",
    "    return hist\n",
    "\n",
    "\n",
    "def plot_learning_curves(hist):\n",
    "    acc = hist.history['accuracy']\n",
    "    val_acc = hist.history['val_accuracy']\n",
    "\n",
    "    precision = hist.history['precision']\n",
    "    val_precision = hist.history['val_precision']\n",
    "\n",
    "    recall = hist.history['recall']\n",
    "    val_recall = hist.history['val_recall']\n",
    "\n",
    "    loss = hist.history['loss']\n",
    "    val_loss = hist.history['val_loss']\n",
    "\n",
    "    plt.figure(figsize=(8, 8))\n",
    "    plt.subplot(2, 1, 1)\n",
    "    plt.plot(acc, label='Training Accuracy')\n",
    "    plt.plot(val_acc, label='Validation Accuracy')\n",
    "\n",
    "    plt.plot(precision, label='Training Precision')\n",
    "    plt.plot(val_precision, label='Validation Precision')\n",
    "\n",
    "    plt.plot(recall, label='Training Recall')\n",
    "    plt.plot(val_recall, label='Validation Recall')\n",
    "\n",
    "    plt.legend(loc='lower right')\n",
    "    plt.ylabel('Accuracy')\n",
    "    plt.ylim([min(plt.ylim()), 1])\n",
    "    plt.title('Training and Validation Accuracy, Precision and Recall')\n",
    "\n",
    "    plt.subplot(2, 1, 2)\n",
    "    plt.plot(loss, label='Training Loss')\n",
    "    plt.plot(val_loss, label='Validation Loss')\n",
    "    plt.legend(loc='upper right')\n",
    "    plt.ylabel('Binary Cross Entropy')\n",
    "    plt.ylim([0, 1.0])\n",
    "    plt.title('Training and Validation Loss')\n",
    "    plt.xlabel('epoch')\n",
    "    plt.show()\n",
    "\n",
    "\n",
    "train_ds, val_ds, test_ds = load_images()\n",
    "print_train_dataset_details(train_ds)\n",
    "train_ds, val_ds, test_ds = use_buffered_prefetching(train_ds, val_ds, test_ds)\n",
    "model = build_transfer_learning_model()\n",
    "history = train_model(model, train_ds, val_ds, test_ds)\n",
    "plot_learning_curves(history)\n"
   ]
  },
  {
   "cell_type": "code",
   "execution_count": null,
   "metadata": {},
   "outputs": [],
   "source": []
  },
  {
   "cell_type": "code",
   "execution_count": null,
   "outputs": [],
   "source": [],
   "metadata": {
    "collapsed": false
   }
  }
 ],
 "metadata": {
  "kernelspec": {
   "display_name": "Python 3 (ipykernel)",
   "language": "python",
   "name": "python3"
  },
  "language_info": {
   "codemirror_mode": {
    "name": "ipython",
    "version": 3
   },
   "file_extension": ".py",
   "mimetype": "text/x-python",
   "name": "python",
   "nbconvert_exporter": "python",
   "pygments_lexer": "ipython3",
   "version": "3.9.16"
  }
 },
 "nbformat": 4,
 "nbformat_minor": 1
}
